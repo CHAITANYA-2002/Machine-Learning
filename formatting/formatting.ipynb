{
 "cells": [
  {
   "cell_type": "code",
   "execution_count": 6,
   "metadata": {},
   "outputs": [
    {
     "ename": "ValueError",
     "evalue": "'FFFF00' is not a valid WD_COLOR_INDEX",
     "output_type": "error",
     "traceback": [
      "\u001b[1;31m---------------------------------------------------------------------------\u001b[0m",
      "\u001b[1;31mValueError\u001b[0m                                Traceback (most recent call last)",
      "Cell \u001b[1;32mIn[6], line 25\u001b[0m\n\u001b[0;32m     22\u001b[0m     doc\u001b[38;5;241m.\u001b[39msave(output_path)\n\u001b[0;32m     24\u001b[0m \u001b[38;5;66;03m# Replace 'your_document.docx' and 'highlighted_document.docx' with your paths\u001b[39;00m\n\u001b[1;32m---> 25\u001b[0m \u001b[43mprocess_word_document\u001b[49m\u001b[43m(\u001b[49m\u001b[38;5;124;43m'\u001b[39;49m\u001b[38;5;124;43m./IOT.docx\u001b[39;49m\u001b[38;5;124;43m'\u001b[39;49m\u001b[43m,\u001b[49m\u001b[43m \u001b[49m\u001b[38;5;124;43m'\u001b[39;49m\u001b[38;5;124;43m./a.docx\u001b[39;49m\u001b[38;5;124;43m'\u001b[39;49m\u001b[43m)\u001b[49m\n",
      "Cell \u001b[1;32mIn[6], line 21\u001b[0m, in \u001b[0;36mprocess_word_document\u001b[1;34m(input_path, output_path)\u001b[0m\n\u001b[0;32m     19\u001b[0m \u001b[38;5;28;01mdef\u001b[39;00m \u001b[38;5;21mprocess_word_document\u001b[39m(input_path, output_path):\n\u001b[0;32m     20\u001b[0m     doc \u001b[38;5;241m=\u001b[39m Document(input_path)\n\u001b[1;32m---> 21\u001b[0m     \u001b[43manalyze_and_highlight\u001b[49m\u001b[43m(\u001b[49m\u001b[43mdoc\u001b[49m\u001b[43m)\u001b[49m\n\u001b[0;32m     22\u001b[0m     doc\u001b[38;5;241m.\u001b[39msave(output_path)\n",
      "Cell \u001b[1;32mIn[6], line 17\u001b[0m, in \u001b[0;36manalyze_and_highlight\u001b[1;34m(doc)\u001b[0m\n\u001b[0;32m     15\u001b[0m     highlight_paragraph(paragraph, \u001b[38;5;124m'\u001b[39m\u001b[38;5;124m0000FF\u001b[39m\u001b[38;5;124m'\u001b[39m)  \u001b[38;5;66;03m# Blue for subheadings\u001b[39;00m\n\u001b[0;32m     16\u001b[0m \u001b[38;5;28;01melse\u001b[39;00m:\n\u001b[1;32m---> 17\u001b[0m     \u001b[43mhighlight_paragraph\u001b[49m\u001b[43m(\u001b[49m\u001b[43mparagraph\u001b[49m\u001b[43m,\u001b[49m\u001b[43m \u001b[49m\u001b[38;5;124;43m'\u001b[39;49m\u001b[38;5;124;43mFFFF00\u001b[39;49m\u001b[38;5;124;43m'\u001b[39;49m\u001b[43m)\u001b[49m\n",
      "Cell \u001b[1;32mIn[6], line 6\u001b[0m, in \u001b[0;36mhighlight_paragraph\u001b[1;34m(paragraph, color)\u001b[0m\n\u001b[0;32m      4\u001b[0m \u001b[38;5;28;01mdef\u001b[39;00m \u001b[38;5;21mhighlight_paragraph\u001b[39m(paragraph, color):\n\u001b[0;32m      5\u001b[0m     \u001b[38;5;28;01mfor\u001b[39;00m run \u001b[38;5;129;01min\u001b[39;00m paragraph\u001b[38;5;241m.\u001b[39mruns:\n\u001b[1;32m----> 6\u001b[0m         run\u001b[38;5;241m.\u001b[39mfont\u001b[38;5;241m.\u001b[39mhighlight_color \u001b[38;5;241m=\u001b[39m color\n",
      "File \u001b[1;32mc:\\Users\\chait\\anaconda3\\lib\\site-packages\\docx\\text\\font.py:144\u001b[0m, in \u001b[0;36mFont.highlight_color\u001b[1;34m(self, value)\u001b[0m\n\u001b[0;32m    141\u001b[0m \u001b[38;5;129m@highlight_color\u001b[39m\u001b[38;5;241m.\u001b[39msetter\n\u001b[0;32m    142\u001b[0m \u001b[38;5;28;01mdef\u001b[39;00m \u001b[38;5;21mhighlight_color\u001b[39m(\u001b[38;5;28mself\u001b[39m, value: WD_COLOR_INDEX \u001b[38;5;241m|\u001b[39m \u001b[38;5;28;01mNone\u001b[39;00m):\n\u001b[0;32m    143\u001b[0m     rPr \u001b[38;5;241m=\u001b[39m \u001b[38;5;28mself\u001b[39m\u001b[38;5;241m.\u001b[39m_element\u001b[38;5;241m.\u001b[39mget_or_add_rPr()\n\u001b[1;32m--> 144\u001b[0m     rPr\u001b[38;5;241m.\u001b[39mhighlight_val \u001b[38;5;241m=\u001b[39m value\n",
      "File \u001b[1;32mc:\\Users\\chait\\anaconda3\\lib\\site-packages\\docx\\oxml\\text\\font.py:191\u001b[0m, in \u001b[0;36mCT_RPr.highlight_val\u001b[1;34m(self, value)\u001b[0m\n\u001b[0;32m    189\u001b[0m     \u001b[38;5;28;01mreturn\u001b[39;00m\n\u001b[0;32m    190\u001b[0m highlight \u001b[38;5;241m=\u001b[39m \u001b[38;5;28mself\u001b[39m\u001b[38;5;241m.\u001b[39mget_or_add_highlight()\n\u001b[1;32m--> 191\u001b[0m highlight\u001b[38;5;241m.\u001b[39mval \u001b[38;5;241m=\u001b[39m value\n",
      "File \u001b[1;32mc:\\Users\\chait\\anaconda3\\lib\\site-packages\\docx\\oxml\\xmlchemy.py:275\u001b[0m, in \u001b[0;36mRequiredAttribute._setter.<locals>.set_attr_value\u001b[1;34m(obj, value)\u001b[0m\n\u001b[0;32m    274\u001b[0m \u001b[38;5;28;01mdef\u001b[39;00m \u001b[38;5;21mset_attr_value\u001b[39m(obj: BaseOxmlElement, value: Any):\n\u001b[1;32m--> 275\u001b[0m     str_value \u001b[38;5;241m=\u001b[39m \u001b[38;5;28;43mself\u001b[39;49m\u001b[38;5;241;43m.\u001b[39;49m\u001b[43m_simple_type\u001b[49m\u001b[38;5;241;43m.\u001b[39;49m\u001b[43mto_xml\u001b[49m\u001b[43m(\u001b[49m\u001b[43mvalue\u001b[49m\u001b[43m)\u001b[49m\n\u001b[0;32m    276\u001b[0m     \u001b[38;5;28;01mif\u001b[39;00m str_value \u001b[38;5;129;01mis\u001b[39;00m \u001b[38;5;28;01mNone\u001b[39;00m:\n\u001b[0;32m    277\u001b[0m         \u001b[38;5;28;01mraise\u001b[39;00m \u001b[38;5;167;01mValueError\u001b[39;00m(\u001b[38;5;124mf\u001b[39m\u001b[38;5;124m\"\u001b[39m\u001b[38;5;124mcannot assign \u001b[39m\u001b[38;5;132;01m{\u001b[39;00mvalue\u001b[38;5;132;01m}\u001b[39;00m\u001b[38;5;124m to this required attribute\u001b[39m\u001b[38;5;124m\"\u001b[39m)\n",
      "File \u001b[1;32mc:\\Users\\chait\\anaconda3\\lib\\site-packages\\docx\\enum\\base.py:72\u001b[0m, in \u001b[0;36mBaseXmlEnum.to_xml\u001b[1;34m(cls, value)\u001b[0m\n\u001b[0;32m     69\u001b[0m \u001b[38;5;250m\u001b[39m\u001b[38;5;124;03m\"\"\"XML value of this enum member, generally an XML attribute value.\"\"\"\u001b[39;00m\n\u001b[0;32m     70\u001b[0m \u001b[38;5;66;03m# -- presence of multi-arg `__new__()` method fools type-checker, but getting a\u001b[39;00m\n\u001b[0;32m     71\u001b[0m \u001b[38;5;66;03m# -- member by its value using EnumCls(val) works as usual.\u001b[39;00m\n\u001b[1;32m---> 72\u001b[0m \u001b[38;5;28;01mreturn\u001b[39;00m \u001b[38;5;28;43mcls\u001b[39;49m\u001b[43m(\u001b[49m\u001b[43mvalue\u001b[49m\u001b[43m)\u001b[49m\u001b[38;5;241m.\u001b[39mxml_value\n",
      "File \u001b[1;32mc:\\Users\\chait\\anaconda3\\lib\\enum.py:385\u001b[0m, in \u001b[0;36mEnumMeta.__call__\u001b[1;34m(cls, value, names, module, qualname, type, start)\u001b[0m\n\u001b[0;32m    360\u001b[0m \u001b[38;5;250m\u001b[39m\u001b[38;5;124;03m\"\"\"\u001b[39;00m\n\u001b[0;32m    361\u001b[0m \u001b[38;5;124;03mEither returns an existing member, or creates a new enum class.\u001b[39;00m\n\u001b[0;32m    362\u001b[0m \n\u001b[1;32m   (...)\u001b[0m\n\u001b[0;32m    382\u001b[0m \u001b[38;5;124;03m`type`, if set, will be mixed in as the first base class.\u001b[39;00m\n\u001b[0;32m    383\u001b[0m \u001b[38;5;124;03m\"\"\"\u001b[39;00m\n\u001b[0;32m    384\u001b[0m \u001b[38;5;28;01mif\u001b[39;00m names \u001b[38;5;129;01mis\u001b[39;00m \u001b[38;5;28;01mNone\u001b[39;00m:  \u001b[38;5;66;03m# simple value lookup\u001b[39;00m\n\u001b[1;32m--> 385\u001b[0m     \u001b[38;5;28;01mreturn\u001b[39;00m \u001b[38;5;28;43mcls\u001b[39;49m\u001b[38;5;241;43m.\u001b[39;49m\u001b[38;5;21;43m__new__\u001b[39;49m\u001b[43m(\u001b[49m\u001b[38;5;28;43mcls\u001b[39;49m\u001b[43m,\u001b[49m\u001b[43m \u001b[49m\u001b[43mvalue\u001b[49m\u001b[43m)\u001b[49m\n\u001b[0;32m    386\u001b[0m \u001b[38;5;66;03m# otherwise, functional API: we're creating a new Enum type\u001b[39;00m\n\u001b[0;32m    387\u001b[0m \u001b[38;5;28;01mreturn\u001b[39;00m \u001b[38;5;28mcls\u001b[39m\u001b[38;5;241m.\u001b[39m_create_(\n\u001b[0;32m    388\u001b[0m         value,\n\u001b[0;32m    389\u001b[0m         names,\n\u001b[1;32m   (...)\u001b[0m\n\u001b[0;32m    393\u001b[0m         start\u001b[38;5;241m=\u001b[39mstart,\n\u001b[0;32m    394\u001b[0m         )\n",
      "File \u001b[1;32mc:\\Users\\chait\\anaconda3\\lib\\enum.py:710\u001b[0m, in \u001b[0;36mEnum.__new__\u001b[1;34m(cls, value)\u001b[0m\n\u001b[0;32m    708\u001b[0m ve_exc \u001b[38;5;241m=\u001b[39m \u001b[38;5;167;01mValueError\u001b[39;00m(\u001b[38;5;124m\"\u001b[39m\u001b[38;5;132;01m%r\u001b[39;00m\u001b[38;5;124m is not a valid \u001b[39m\u001b[38;5;132;01m%s\u001b[39;00m\u001b[38;5;124m\"\u001b[39m \u001b[38;5;241m%\u001b[39m (value, \u001b[38;5;28mcls\u001b[39m\u001b[38;5;241m.\u001b[39m\u001b[38;5;18m__qualname__\u001b[39m))\n\u001b[0;32m    709\u001b[0m \u001b[38;5;28;01mif\u001b[39;00m result \u001b[38;5;129;01mis\u001b[39;00m \u001b[38;5;28;01mNone\u001b[39;00m \u001b[38;5;129;01mand\u001b[39;00m exc \u001b[38;5;129;01mis\u001b[39;00m \u001b[38;5;28;01mNone\u001b[39;00m:\n\u001b[1;32m--> 710\u001b[0m     \u001b[38;5;28;01mraise\u001b[39;00m ve_exc\n\u001b[0;32m    711\u001b[0m \u001b[38;5;28;01melif\u001b[39;00m exc \u001b[38;5;129;01mis\u001b[39;00m \u001b[38;5;28;01mNone\u001b[39;00m:\n\u001b[0;32m    712\u001b[0m     exc \u001b[38;5;241m=\u001b[39m \u001b[38;5;167;01mTypeError\u001b[39;00m(\n\u001b[0;32m    713\u001b[0m             \u001b[38;5;124m'\u001b[39m\u001b[38;5;124merror in \u001b[39m\u001b[38;5;132;01m%s\u001b[39;00m\u001b[38;5;124m._missing_: returned \u001b[39m\u001b[38;5;132;01m%r\u001b[39;00m\u001b[38;5;124m instead of None or a valid member\u001b[39m\u001b[38;5;124m'\u001b[39m\n\u001b[0;32m    714\u001b[0m             \u001b[38;5;241m%\u001b[39m (\u001b[38;5;28mcls\u001b[39m\u001b[38;5;241m.\u001b[39m\u001b[38;5;18m__name__\u001b[39m, result)\n\u001b[0;32m    715\u001b[0m             )\n",
      "\u001b[1;31mValueError\u001b[0m: 'FFFF00' is not a valid WD_COLOR_INDEX"
     ]
    }
   ],
   "source": [
    "from docx import Document\n",
    "from openpyxl.styles import PatternFill\n",
    "\n",
    "def highlight_paragraph(paragraph, color):\n",
    "    for run in paragraph.runs:\n",
    "        run.font.highlight_color = color\n",
    "\n",
    "def analyze_and_highlight(doc):\n",
    "    for paragraph in doc.paragraphs:\n",
    "        if any(keyword in paragraph.text.lower() for keyword in ['important', 'crucial', 'key']):\n",
    "            highlight_paragraph(paragraph, '00FF00')  # Green for important\n",
    "        elif paragraph.style.name == 'Heading 1':\n",
    "            highlight_paragraph(paragraph, '0000FF')  # Blue for headings\n",
    "        elif paragraph.style.name == 'Heading 2':\n",
    "            highlight_paragraph(paragraph, '0000FF')  # Blue for subheadings\n",
    "        else:\n",
    "            highlight_paragraph(paragraph, 'FFFF00')  # Yellow for basic info\n",
    "\n",
    "def process_word_document(input_path, output_path):\n",
    "    doc = Document(input_path)\n",
    "    analyze_and_highlight(doc)\n",
    "    doc.save(output_path)\n",
    "\n",
    "# Replace 'your_document.docx' and 'highlighted_document.docx' with your paths\n",
    "process_word_document('./IOT.docx', './a.docx')\n"
   ]
  },
  {
   "cell_type": "code",
   "execution_count": 2,
   "metadata": {},
   "outputs": [
    {
     "name": "stdout",
     "output_type": "stream",
     "text": [
      "Collecting python-docx\n",
      "  Using cached python_docx-1.1.0-py3-none-any.whl (239 kB)\n",
      "Requirement already satisfied: openpyxl in c:\\users\\chait\\anaconda3\\lib\\site-packages (3.0.10)\n",
      "Requirement already satisfied: lxml>=3.1.0 in c:\\users\\chait\\anaconda3\\lib\\site-packages (from python-docx) (4.9.1)\n",
      "Requirement already satisfied: typing-extensions in c:\\users\\chait\\anaconda3\\lib\\site-packages (from python-docx) (4.4.0)\n",
      "Requirement already satisfied: et_xmlfile in c:\\users\\chait\\anaconda3\\lib\\site-packages (from openpyxl) (1.1.0)\n",
      "Installing collected packages: python-docx\n",
      "Successfully installed python-docx-1.1.0\n"
     ]
    }
   ],
   "source": [
    "!pip install python-docx openpyxl\n"
   ]
  },
  {
   "cell_type": "code",
   "execution_count": 7,
   "metadata": {},
   "outputs": [],
   "source": [
    "from docx import Document\n",
    "from openpyxl.styles import PatternFill\n",
    "from docx.shared import RGBColor\n",
    "\n",
    "def highlight_paragraph(paragraph, color):\n",
    "    # Convert color name to RGB\n",
    "    rgb_color = RGBColor(*[int(color[i:i+2], 16) for i in (0, 2, 4)])\n",
    "\n",
    "    for run in paragraph.runs:\n",
    "        run.font.highlight_color = None  # Clear existing highlight\n",
    "        run.font.color.rgb = rgb_color\n",
    "\n",
    "def analyze_and_highlight(doc):\n",
    "    for paragraph in doc.paragraphs:\n",
    "        if any(keyword in paragraph.text.lower() for keyword in ['important', 'crucial', 'key']):\n",
    "            highlight_paragraph(paragraph, '00FF00')  # Green for important\n",
    "        elif paragraph.style.name == 'Heading 1':\n",
    "            highlight_paragraph(paragraph, '0000FF')  # Blue for headings\n",
    "        elif paragraph.style.name == 'Heading 2':\n",
    "            highlight_paragraph(paragraph, '0000FF')  # Blue for subheadings\n",
    "        else:\n",
    "            highlight_paragraph(paragraph, 'FFFF00')  # Yellow for basic info\n",
    "\n",
    "def process_word_document(input_path, output_path):\n",
    "    doc = Document(input_path)\n",
    "    analyze_and_highlight(doc)\n",
    "    doc.save(output_path)\n",
    "\n",
    "# Replace './IOT.docx' and './a.docx' with your paths\n",
    "process_word_document('./IOT.docx', './a.docx')\n"
   ]
  },
  {
   "cell_type": "code",
   "execution_count": null,
   "metadata": {},
   "outputs": [],
   "source": []
  }
 ],
 "metadata": {
  "kernelspec": {
   "display_name": "base",
   "language": "python",
   "name": "python3"
  },
  "language_info": {
   "codemirror_mode": {
    "name": "ipython",
    "version": 3
   },
   "file_extension": ".py",
   "mimetype": "text/x-python",
   "name": "python",
   "nbconvert_exporter": "python",
   "pygments_lexer": "ipython3",
   "version": "3.10.9"
  }
 },
 "nbformat": 4,
 "nbformat_minor": 2
}

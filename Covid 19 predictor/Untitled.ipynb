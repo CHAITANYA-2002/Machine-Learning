{
 "cells": [
  {
   "cell_type": "code",
   "execution_count": 1,
   "id": "5656fc5a",
   "metadata": {},
   "outputs": [
    {
     "name": "stderr",
     "output_type": "stream",
     "text": [
      "2023-05-18 07:47:24.136242: I tensorflow/tsl/cuda/cudart_stub.cc:28] Could not find cuda drivers on your machine, GPU will not be used.\n",
      "2023-05-18 07:47:24.206498: I tensorflow/tsl/cuda/cudart_stub.cc:28] Could not find cuda drivers on your machine, GPU will not be used.\n",
      "2023-05-18 07:47:24.207443: I tensorflow/core/platform/cpu_feature_guard.cc:182] This TensorFlow binary is optimized to use available CPU instructions in performance-critical operations.\n",
      "To enable the following instructions: AVX2 AVX512F FMA, in other operations, rebuild TensorFlow with the appropriate compiler flags.\n",
      "2023-05-18 07:47:25.326317: W tensorflow/compiler/tf2tensorrt/utils/py_utils.cc:38] TF-TRT Warning: Could not find TensorRT\n"
     ]
    }
   ],
   "source": [
    "from tensorflow.keras.models import Sequential\n",
    "from tensorflow.keras.layers import Conv2D, MaxPool2D,Dropout, Flatten, Dense\n",
    "from tensorflow.keras.optimizers import Adam\n",
    "from tensorflow.keras.preprocessing.image import ImageDataGenerator\n",
    "import numpy as np\n",
    "import pandas as pd\n",
    "import matplotlib.pyplot as plt\n"
   ]
  },
  {
   "cell_type": "code",
   "execution_count": 2,
   "id": "1ce08f6e",
   "metadata": {},
   "outputs": [
    {
     "name": "stdout",
     "output_type": "stream",
     "text": [
      "Cloning into 'Chext-X-ray-Images-Data-Set'...\n",
      "remote: Enumerating objects: 2319, done.\u001b[K\n",
      "remote: Total 2319 (delta 0), reused 0 (delta 0), pack-reused 2319\u001b[K\n",
      "Receiving objects: 100% (2319/2319), 1.31 GiB | 19.20 MiB/s, done.\n",
      "Updating files: 100% (2296/2296), done.\n"
     ]
    }
   ],
   "source": [
    "# CLONING THE DATASET FROM THE GITHUB REPOSITORY\n",
    "!git clone https://github.com/RishitToteja/Chext-X-ray-Images-Data-Set.git"
   ]
  },
  {
   "cell_type": "code",
   "execution_count": 5,
   "id": "9c4105c3",
   "metadata": {},
   "outputs": [],
   "source": [
    "import os\n",
    "\n",
    "main_dir = \"/content/Chext-X-ray-Images-Data-Set/DataSet/Data\"\n",
    "\n",
    "# SETTING TRAIN AND TEST DIRECTORY\n",
    "train_dir = os.path.join(main_dir, \"train\")\n",
    "test_dir = os.path.join(main_dir, \"test\")\n",
    "\n",
    "#SETING DIRECTORY FOR COVID AND NORMAL IMAGES DIRECTORY\n",
    "train_covid_dir = os.path.join(train_dir, \"COVID19\")\n",
    "train_normal_dir = os.path.join(train_dir, \"NORMAL\")\n",
    "\n",
    "test_covid_dir = os.path.join(test_dir, \"COVID19\")\n",
    "test_normal_dir = os.path.join(test_dir, \"NORMAL\")\n"
   ]
  },
  {
   "cell_type": "code",
   "execution_count": 4,
   "id": "65cbb01d",
   "metadata": {},
   "outputs": [
    {
     "ename": "FileNotFoundError",
     "evalue": "[Errno 2] No such file or directory: '/content/Chext-X-ray-Images-Data-Set/DataSet/Data/train/COVID19'",
     "output_type": "error",
     "traceback": [
      "\u001b[0;31m---------------------------------------------------------------------------\u001b[0m",
      "\u001b[0;31mFileNotFoundError\u001b[0m                         Traceback (most recent call last)",
      "Cell \u001b[0;32mIn[4], line 2\u001b[0m\n\u001b[1;32m      1\u001b[0m \u001b[38;5;66;03m# MAKING SEPERATE FILES : \u001b[39;00m\n\u001b[0;32m----> 2\u001b[0m train_covid_names \u001b[38;5;241m=\u001b[39m \u001b[43mos\u001b[49m\u001b[38;5;241;43m.\u001b[39;49m\u001b[43mlistdir\u001b[49m\u001b[43m(\u001b[49m\u001b[43mtrain_covid_dir\u001b[49m\u001b[43m)\u001b[49m\n\u001b[1;32m      3\u001b[0m train_normal_names \u001b[38;5;241m=\u001b[39m os\u001b[38;5;241m.\u001b[39mlistdir(train_normal_dir)\n\u001b[1;32m      5\u001b[0m test_covid_names \u001b[38;5;241m=\u001b[39m os\u001b[38;5;241m.\u001b[39mlistdir(test_covid_dir)\n",
      "\u001b[0;31mFileNotFoundError\u001b[0m: [Errno 2] No such file or directory: '/content/Chext-X-ray-Images-Data-Set/DataSet/Data/train/COVID19'"
     ]
    }
   ],
   "source": [
    "# MAKING SEPERATE FILES : \n",
    "train_covid_names = os.listdir(train_covid_dir)\n",
    "train_normal_names = os.listdir(train_normal_dir)\n",
    "\n",
    "test_covid_names = os.listdir(test_covid_dir)\n",
    "test_normal_names = os.listdir(test_normal_dir)"
   ]
  },
  {
   "cell_type": "code",
   "execution_count": null,
   "id": "3d33c38c",
   "metadata": {},
   "outputs": [],
   "source": []
  }
 ],
 "metadata": {
  "kernelspec": {
   "display_name": "Python 3 (ipykernel)",
   "language": "python",
   "name": "python3"
  },
  "language_info": {
   "codemirror_mode": {
    "name": "ipython",
    "version": 3
   },
   "file_extension": ".py",
   "mimetype": "text/x-python",
   "name": "python",
   "nbconvert_exporter": "python",
   "pygments_lexer": "ipython3",
   "version": "3.10.9"
  }
 },
 "nbformat": 4,
 "nbformat_minor": 5
}

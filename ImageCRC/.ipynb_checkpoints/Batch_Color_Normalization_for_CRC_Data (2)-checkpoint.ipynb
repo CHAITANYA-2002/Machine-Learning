{
 "cells": [
  {
   "cell_type": "code",
   "execution_count": 1,
   "metadata": {
    "colab": {
     "base_uri": "https://localhost:8080/"
    },
    "id": "wbxrLoJJzImB",
    "outputId": "6bd82d51-97ca-4691-d0bd-515fa3aec4f1"
   },
   "outputs": [
    {
     "name": "stdout",
     "output_type": "stream",
     "text": [
      "Requirement already satisfied: color_transfer in /usr/local/lib/python3.10/dist-packages (0.1)\n"
     ]
    }
   ],
   "source": [
    "pip install color_transfer"
   ]
  },
  {
   "cell_type": "code",
   "execution_count": 2,
   "metadata": {
    "id": "pcAYQ-F_GnvV"
   },
   "outputs": [],
   "source": [
    "import cv2\n",
    "import glob\n",
    "import shutil\n",
    "import os\n",
    "import numpy as np\n",
    "import matplotlib.pyplot as plt\n",
    "import matplotlib.image as img\n",
    "from color_transfer import color_transfer"
   ]
  },
  {
   "cell_type": "code",
   "execution_count": 3,
   "metadata": {
    "colab": {
     "base_uri": "https://localhost:8080/"
    },
    "id": "r8bANz2WCupZ",
    "outputId": "05c14030-751d-4045-c3a3-131ea8613505"
   },
   "outputs": [
    {
     "name": "stdout",
     "output_type": "stream",
     "text": [
      "Drive already mounted at /content/drive; to attempt to forcibly remount, call drive.mount(\"/content/drive\", force_remount=True).\n"
     ]
    }
   ],
   "source": [
    "from google.colab import drive\n",
    "drive.mount('/content/drive')\n",
    "folders = glob.glob('/content/drive/MyDrive/Paper_Data/images')\n",
    "imagenames_list = []\n",
    "for folder in folders:\n",
    "    for f in glob.glob(folder+'/*'):\n",
    "        imagenames_list.append(f)\n"
   ]
  },
  {
   "cell_type": "code",
   "execution_count": 4,
   "metadata": {
    "id": "keAmMT8WE2ug"
   },
   "outputs": [],
   "source": [
    "def resize_image(image, width = 250):\n",
    "    r = width/float(image.shape[1])\n",
    "    dim = (width, int(image.shape[0]*r))\n",
    "    resized = cv2.resize(image, dim, interpolation = cv2.INTER_AREA)\n",
    "    return resized"
   ]
  },
  {
   "cell_type": "code",
   "execution_count": 5,
   "metadata": {
    "id": "aNSylTcoFQrd"
   },
   "outputs": [],
   "source": [
    "def image_stats(image):\n",
    "    # Compute the mean and standard deviation of each channel\n",
    "    (l, a, b) = cv2.split(image)\n",
    "    (l_mean, l_std) = (l.mean(), l.std())\n",
    "    (a_mean, a_std) = (a.mean(), a.std())\n",
    "    (b_mean, b_std) = (b.mean(), b.std())\n",
    "    # return the color statistics\n",
    "    return (l_mean, l_std, a_mean, a_std, b_mean, b_std)"
   ]
  },
  {
   "cell_type": "code",
   "execution_count": 6,
   "metadata": {
    "id": "GqEd90oYFTUR"
   },
   "outputs": [],
   "source": [
    "def _min_max_scale(arr, new_range=(0, 255)):\n",
    "    mn = arr.min()\n",
    "    mx = arr.max()\n",
    "    # check if scaling needs to be done to be in new_range\n",
    "    if mn < new_range[0] or mx > new_range[1]:\n",
    "\t\t# perform min-max scaling\n",
    "        scaled = (new_range[1] - new_range[0]) * (arr - mn) / (mx - mn) + new_range[0]\n",
    "    else:\n",
    "\t\t# return array if already in range\n",
    "\t    scaled = arr\n",
    "\n",
    "    return scaled"
   ]
  },
  {
   "cell_type": "code",
   "execution_count": 7,
   "metadata": {
    "id": "4R0rtyS0FY63"
   },
   "outputs": [],
   "source": [
    "def _scale_array(arr, clip=True):\n",
    "\tif clip:\n",
    "\t\tscaled = np.clip(arr, 0, 255)\n",
    "\telse:\n",
    "\t\tscale_range = (max([arr.min(), 0]), min([arr.max(), 255]))\n",
    "\t\tscaled = _min_max_scale(arr, new_range=scale_range)\n",
    "\n",
    "\treturn scaled"
   ]
  },
  {
   "cell_type": "code",
   "execution_count": 8,
   "metadata": {
    "id": "d98etCYgFdU_"
   },
   "outputs": [],
   "source": [
    "def color_transfer(source, target, clip=True):\n",
    "\n",
    "    source = cv2.cvtColor(source, cv2.COLOR_BGR2LAB).astype(\"float32\")\n",
    "    target = cv2.cvtColor(target, cv2.COLOR_BGR2LAB).astype(\"float32\")\n",
    "\n",
    "    (lMeanSrc, lStdSrc, aMeanSrc, aStdSrc, bMeanSrc, bStdSrc) = image_stats(source)\n",
    "    (lMeanTar, lStdTar, aMeanTar, aStdTar, bMeanTar, bStdTar) = image_stats(target)\n",
    "\n",
    "    (l, a, b) = cv2.split(source)\n",
    "    q = (lStdTar-lStdSrc)/lStdTar\n",
    "\n",
    "    if q>0:\n",
    "        l = lMeanSrc+((l-lMeanSrc)*(1+q))\n",
    "    else:\n",
    "        l = lMeanSrc+(l-lMeanSrc)*(1+0.05)\n",
    "\n",
    "        a = aMeanTar+(a-aMeanSrc)\n",
    "        b = bMeanTar+(b-bMeanSrc)\n",
    "\n",
    "        l = _scale_array(l, clip=clip)\n",
    "        a = _scale_array(a, clip=clip)\n",
    "        b = _scale_array(b, clip=clip)\n",
    "\n",
    "\t# merge the channels together and convert back to the RGB color\n",
    "\t# space, being sure to utilize the 8-bit unsigned integer data\n",
    "\t# type\n",
    "    transfer = cv2.merge([l, a, b])\n",
    "    transfer = cv2.cvtColor(transfer.astype(\"uint8\"), cv2.COLOR_LAB2BGR)\n",
    "\n",
    "\t# return the color transferred image\n",
    "    return transfer"
   ]
  },
  {
   "cell_type": "code",
   "execution_count": 8,
   "metadata": {
    "id": "YNpLWYpaF2mn"
   },
   "outputs": [],
   "source": []
  },
  {
   "cell_type": "code",
   "execution_count": 8,
   "metadata": {
    "id": "cnUtV7BnGC9u"
   },
   "outputs": [],
   "source": []
  },
  {
   "cell_type": "code",
   "execution_count": 9,
   "metadata": {
    "id": "VYg86JaqFeE3"
   },
   "outputs": [],
   "source": [
    "source_images = []\n",
    "transferred_images = []\n",
    "\n",
    "for image in imagenames_list:\n",
    "    source = cv2.imread(image)\n",
    "    if source is None:\n",
    "        print(f\"Could not read the image: {image}\")\n",
    "        continue\n",
    "\n",
    "    source = resize_image(source)\n",
    "    source_images.append(source)\n",
    "\n",
    "    target_path = r\"images/Patient_012_01_Normal.png\"\n",
    "    target = cv2.imread(target_path)\n",
    "    if target is None:\n",
    "        print(f\"Could not read the target image: {target_path}\")\n",
    "        continue\n",
    "\n",
    "    target = resize_image(target)\n",
    "    transferred = color_transfer(source, target)\n",
    "    transferred = resize_image(transferred)\n",
    "\n",
    "    output_path = f\"/content/drive/MyDrive/Paper_Data/output(PM)/output_{image.split('/')[-1]}\"\n",
    "    output = cv2.imwrite(output_path, transferred)\n",
    "    transferred_images.append(output)\n"
   ]
  },
  {
   "cell_type": "code",
   "execution_count": null,
   "metadata": {
    "id": "pkWJMZIj5yzB"
   },
   "outputs": [],
   "source": [
    "import cv2\n",
    "from PIL import Image\n",
    "import glob\n",
    "\n",
    "for f in glob.glob('/content/drive/MyDrive/Paper_Data/images/*'):\n",
    "    img = cv2.imread(f)\n",
    "    im_hsv = cv2.cvtColor(img, cv2.COLOR_BGR2HSV)\n",
    "    im_hsv_pil = Image.fromarray(im_hsv)\n",
    "    im_hsv_pil.save('/content/drive/MyDrive/Paper_Data/RGB2HSV/%s.png' % f.split(\"/\")[-1])\n",
    "\n",
    "    im_lab = cv2.cvtColor(img, cv2.COLOR_BGR2LAB)\n",
    "    im_lab_pil = Image.fromarray(im_lab)\n",
    "    im_lab_pil.save('/content/drive/MyDrive/Paper_Data/RGB2LAB/%s.png' % f.split(\"/\")[-1])\n",
    "\n",
    "    ycbcr_image = cv2.cvtColor(img, cv2.COLOR_BGR2YCrCb)\n",
    "    ycbcr_image_pil = Image.fromarray(ycbcr_image)\n",
    "    ycbcr_image_pil.save('/content/drive/MyDrive/Paper_Data/ycbcr_image/%s.png' % f.split(\"/\")[-1])\n",
    "\n"
   ]
  },
  {
   "cell_type": "code",
   "execution_count": null,
   "metadata": {
    "id": "ATafVw-PEml1"
   },
   "outputs": [
    {
     "name": "stderr",
     "output_type": "stream",
     "text": [
      "/tmp/ipykernel_30098/3997193152.py:7: DeprecationWarning: ANTIALIAS is deprecated and will be removed in Pillow 10 (2023-07-01). Use LANCZOS or Resampling.LANCZOS instead.\n",
      "  image = image.resize(target_size, Image.ANTIALIAS)\n"
     ]
    }
   ],
   "source": [
    "import os\n",
    "from PIL import Image\n",
    "import numpy as np\n",
    "\n",
    "def image_to_numpy(image_path, target_size=(100, 100)):\n",
    "    image = Image.open(image_path)\n",
    "    image = image.resize(target_size, Image.ANTIALIAS)\n",
    "    return np.array(image)\n",
    "\n",
    "def pearson_correlation_coefficient(image1, image2):\n",
    "    # Flattening the images to 1D arrays\n",
    "    image1_flat = image1.flatten()\n",
    "    image2_flat = image2.flatten()\n",
    "\n",
    "    # Mean of the images\n",
    "    mean1 = np.mean(image1_flat)\n",
    "    mean2 = np.mean(image2_flat)\n",
    "\n",
    "    # Center the values by subtracting the mean\n",
    "    centered1 = image1_flat - mean1\n",
    "    centered2 = image2_flat - mean2\n",
    "\n",
    "    # Calculate the Pearson correlation coefficient\n",
    "    numerator = np.sum(centered1 * centered2)\n",
    "    denominator = np.sqrt(np.sum(centered1 ** 2) * np.sum(centered2 ** 2))\n",
    "    pcc = numerator / denominator\n",
    "\n",
    "    return pcc\n",
    "\n",
    "def create_pcc_matrix(image_folder):\n",
    "    image_paths = [os.path.join(image_folder, filename) for filename in os.listdir(image_folder) if filename.endswith('.png')]\n",
    "    num_images = len(image_paths)\n",
    "    pcc_matrix = np.zeros((num_images, num_images))\n",
    "\n",
    "    for i in range(num_images):\n",
    "        for j in range(i, num_images):\n",
    "            image1_path = image_paths[i]\n",
    "            image2_path = image_paths[j]\n",
    "            image1 = image_to_numpy(image1_path)\n",
    "            image2 = image_to_numpy(image2_path)\n",
    "            pcc_value = pearson_correlation_coefficient(image1, image2)\n",
    "            pcc_matrix[i, j] = pcc_value\n",
    "            pcc_matrix[j, i] = pcc_value\n",
    "\n",
    "    return pcc_matrix\n",
    "\n",
    "if __name__ == \"__main__\":\n",
    "    final_image_folder_name = \"Final_Images\"\n",
    "    final_image_folder_path = os.path.join(final_image_folder_name)\n",
    "\n",
    "    pcc_matrix = create_pcc_matrix(final_image_folder_path)\n",
    "    print(\"Pearson Correlation Coefficient Matrix:\")\n",
    "    print(pcc_matrix)\n"
   ]
  },
  {
   "cell_type": "code",
   "execution_count": null,
   "metadata": {},
   "outputs": [],
   "source": []
  }
 ],
 "metadata": {
  "colab": {
   "provenance": []
  },
  "kernelspec": {
   "display_name": "Python 3 (ipykernel)",
   "language": "python",
   "name": "python3"
  },
  "language_info": {
   "codemirror_mode": {
    "name": "ipython",
    "version": 3
   },
   "file_extension": ".py",
   "mimetype": "text/x-python",
   "name": "python",
   "nbconvert_exporter": "python",
   "pygments_lexer": "ipython3",
   "version": "3.11.3"
  }
 },
 "nbformat": 4,
 "nbformat_minor": 1
}
